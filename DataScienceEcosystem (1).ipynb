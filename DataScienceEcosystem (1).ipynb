{
  "nbformat": 4,
  "nbformat_minor": 0,
  "metadata": {
    "colab": {
      "provenance": []
    },
    "kernelspec": {
      "name": "python3",
      "display_name": "Python 3"
    },
    "language_info": {
      "name": "python"
    }
  },
  "cells": [
    {
      "cell_type": "markdown",
      "source": [
        "# Data Science Tools and Ecosystem"
      ],
      "metadata": {
        "id": "Wo92BZ6a6mPa"
      }
    },
    {
      "cell_type": "markdown",
      "source": [
        "In this notebook, Data Science Tools and Ecosystem are summarized."
      ],
      "metadata": {
        "id": "SZDNGaVW6xqw"
      }
    },
    {
      "cell_type": "markdown",
      "source": [
        "**Objectives:**\n",
        "\n",
        "- List popular languages for Data Science  \n",
        "- Identify commonly used libraries in Data Science  \n",
        "- Understand key open source tools used by Data Scientists  \n",
        "- Perform simple arithmetic operations in Python  \n",
        "- Convert minutes into hours using Python expressions"
      ],
      "metadata": {
        "id": "ivnuALuD_HOj"
      }
    },
    {
      "cell_type": "markdown",
      "source": [
        "Some of the popular languages that Data Scientists use are:\n",
        "\n",
        "1. Python  \n",
        "2. R  \n",
        "3. SQL  \n",
        "4. Julia  \n",
        "5. Scala"
      ],
      "metadata": {
        "id": "E-xsWx_i61OF"
      }
    },
    {
      "cell_type": "markdown",
      "source": [
        "Some of the commonly used libraries used by Data Scientists include:\n",
        "\n",
        "1. Pandas  \n",
        "2. NumPy  \n",
        "3. Scikit-learn  \n",
        "4. TensorFlow  \n",
        "5. Matplotlib"
      ],
      "metadata": {
        "id": "D6LaBGbL66mi"
      }
    },
    {
      "cell_type": "markdown",
      "source": [
        "| Data Science Tools        |\n",
        "|---------------------------|\n",
        "| Jupyter Notebook          |\n",
        "| RStudio                   |\n",
        "| Apache Zeppelin           |"
      ],
      "metadata": {
        "id": "cqCMUGJJ6-aR"
      }
    },
    {
      "cell_type": "markdown",
      "source": [
        "### Below are a few examples of evaluating arithmetic expressions in Python."
      ],
      "metadata": {
        "id": "8hqcSRqh7DY0"
      }
    },
    {
      "cell_type": "code",
      "execution_count": null,
      "metadata": {
        "colab": {
          "base_uri": "https://localhost:8080/"
        },
        "id": "9Imf-jg16DCf",
        "outputId": "9b9bcf05-a8d8-44d4-e7d5-4af84bdc4aef"
      },
      "outputs": [
        {
          "output_type": "execute_result",
          "data": {
            "text/plain": [
              "17"
            ]
          },
          "metadata": {},
          "execution_count": 4
        }
      ],
      "source": [
        "# This a simple arithmetic expression to multiply then add integers.\n",
        "(3 * 4) + 5"
      ]
    },
    {
      "cell_type": "code",
      "source": [
        "# This will convert 200 minutes to hours by diving by 60.\n",
        "200 / 60"
      ],
      "metadata": {
        "id": "hrYEGj2D7Mi3",
        "outputId": "a2b78139-9fcf-470e-8f8c-48a3e8a15f88",
        "colab": {
          "base_uri": "https://localhost:8080/"
        }
      },
      "execution_count": null,
      "outputs": [
        {
          "output_type": "execute_result",
          "data": {
            "text/plain": [
              "3.3333333333333335"
            ]
          },
          "metadata": {},
          "execution_count": 5
        }
      ]
    },
    {
      "cell_type": "markdown",
      "source": [
        "## Author\n",
        "\n",
        "Óscar García Puche"
      ],
      "metadata": {
        "id": "P6l4TSKf_QNS"
      }
    }
  ]
}